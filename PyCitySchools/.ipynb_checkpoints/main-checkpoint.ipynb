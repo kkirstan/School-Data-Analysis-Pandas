{
 "cells": [
  {
   "cell_type": "code",
   "execution_count": 44,
   "metadata": {},
   "outputs": [],
   "source": [
    "#Dependencies\n",
    "import pandas as pd\n",
    "import numpy as np"
   ]
  },
  {
   "cell_type": "code",
   "execution_count": 45,
   "metadata": {},
   "outputs": [],
   "source": [
    "#File to load\n",
    "school_csvpath = \"Resources/schools_complete.csv\"\n",
    "students_csvpath = \"Resources/students_complete.csv\""
   ]
  },
  {
   "cell_type": "code",
   "execution_count": 46,
   "metadata": {},
   "outputs": [],
   "source": [
    "#Read School and Student Data File and store into Pandas Dataframes\n",
    "school_data = pd.read_csv(school_csvpath)\n",
    "student_data = pd.read_csv(students_csvpath)"
   ]
  },
  {
   "cell_type": "code",
   "execution_count": 47,
   "metadata": {},
   "outputs": [],
   "source": [
    "#combine the data into a single dataset.\n",
    "all_data = pd.merge(student_data, school_data, how=\"left\", on=[\"school_name\", \"school_name\"])\n"
   ]
  },
  {
   "cell_type": "code",
   "execution_count": 48,
   "metadata": {},
   "outputs": [
    {
     "data": {
      "text/plain": [
       "15"
      ]
     },
     "execution_count": 48,
     "metadata": {},
     "output_type": "execute_result"
    }
   ],
   "source": [
    "#calculate the total # of schools\n",
    "grouped_school_names = all_data.groupby([\"school_name\"])\n",
    "total_schools = len(grouped_school_names)\n",
    "total_schools"
   ]
  },
  {
   "cell_type": "code",
   "execution_count": 49,
   "metadata": {},
   "outputs": [
    {
     "data": {
      "text/plain": [
       "39170"
      ]
     },
     "execution_count": 49,
     "metadata": {},
     "output_type": "execute_result"
    }
   ],
   "source": [
    "#calculate the total # of students\n",
    "total_students = len(all_data[\"Student ID\"])\n",
    "total_students"
   ]
  },
  {
   "cell_type": "code",
   "execution_count": 50,
   "metadata": {},
   "outputs": [
    {
     "data": {
      "text/plain": [
       "24649428"
      ]
     },
     "execution_count": 50,
     "metadata": {},
     "output_type": "execute_result"
    }
   ],
   "source": [
    "#calculate the total budget\n",
    "total_budget = school_data[\"budget\"].sum()\n",
    "total_budget"
   ]
  },
  {
   "cell_type": "code",
   "execution_count": 51,
   "metadata": {},
   "outputs": [
    {
     "data": {
      "text/plain": [
       "78.98537145774827"
      ]
     },
     "execution_count": 51,
     "metadata": {},
     "output_type": "execute_result"
    }
   ],
   "source": [
    "#calculate the average math score\n",
    "math_score = student_data[\"math_score\"].mean()\n",
    "math_score"
   ]
  },
  {
   "cell_type": "code",
   "execution_count": 52,
   "metadata": {},
   "outputs": [
    {
     "data": {
      "text/plain": [
       "81.87784018381414"
      ]
     },
     "execution_count": 52,
     "metadata": {},
     "output_type": "execute_result"
    }
   ],
   "source": [
    "#calculate the average reading score\n",
    "reading_score = student_data[\"reading_score\"].mean()\n",
    "reading_score"
   ]
  },
  {
   "cell_type": "code",
   "execution_count": 53,
   "metadata": {},
   "outputs": [
    {
     "data": {
      "text/plain": [
       "74.9808526933878"
      ]
     },
     "execution_count": 53,
     "metadata": {},
     "output_type": "execute_result"
    }
   ],
   "source": [
    "#calculate the percentage of students with a passing math score\n",
    "good_math_students = all_data.loc[all_data[\"math_score\"]>=70]\n",
    "total_good_math = len(good_math_students)\n",
    "percentage_passing_math = (total_good_math/total_students)*100\n",
    "percentage_passing_math"
   ]
  },
  {
   "cell_type": "code",
   "execution_count": 54,
   "metadata": {},
   "outputs": [
    {
     "data": {
      "text/plain": [
       "85.80546336482001"
      ]
     },
     "execution_count": 54,
     "metadata": {},
     "output_type": "execute_result"
    }
   ],
   "source": [
    "#calculate the percentage of students with a passing reading score\n",
    "good_readers = all_data.loc[all_data[\"reading_score\"]>=70]\n",
    "total_good_readers = len(good_readers)\n",
    "percentage_passing_reading = (total_good_readers/total_students)*100\n",
    "percentage_passing_reading"
   ]
  },
  {
   "cell_type": "code",
   "execution_count": 55,
   "metadata": {},
   "outputs": [
    {
     "data": {
      "text/plain": [
       "65.17232575950983"
      ]
     },
     "execution_count": 55,
     "metadata": {},
     "output_type": "execute_result"
    }
   ],
   "source": [
    "#calculate the percentage of students who passed math and reading\n",
    "overall_passing = all_data[(all_data[\"reading_score\"]>=70) & (all_data[\"math_score\"]>=70)][\"student_name\"].count()\n",
    "overall_passing_percentage = (overall_passing/total_students)*100\n",
    "overall_passing_percentage"
   ]
  },
  {
   "cell_type": "code",
   "execution_count": 56,
   "metadata": {},
   "outputs": [
    {
     "data": {
      "text/html": [
       "<div>\n",
       "<style scoped>\n",
       "    .dataframe tbody tr th:only-of-type {\n",
       "        vertical-align: middle;\n",
       "    }\n",
       "\n",
       "    .dataframe tbody tr th {\n",
       "        vertical-align: top;\n",
       "    }\n",
       "\n",
       "    .dataframe thead th {\n",
       "        text-align: right;\n",
       "    }\n",
       "</style>\n",
       "<table border=\"1\" class=\"dataframe\">\n",
       "  <thead>\n",
       "    <tr style=\"text-align: right;\">\n",
       "      <th></th>\n",
       "      <th>Total Schools</th>\n",
       "      <th>Total Students</th>\n",
       "      <th>Total Budget</th>\n",
       "      <th>Average Math Score</th>\n",
       "      <th>Average Reading Score</th>\n",
       "      <th>% Passing Math</th>\n",
       "      <th>% Passing Reading</th>\n",
       "      <th>% Overall Passing</th>\n",
       "    </tr>\n",
       "  </thead>\n",
       "  <tbody>\n",
       "    <tr>\n",
       "      <th>0</th>\n",
       "      <td>15</td>\n",
       "      <td>39170</td>\n",
       "      <td>24649428</td>\n",
       "      <td>78.985371</td>\n",
       "      <td>81.87784</td>\n",
       "      <td>74.980853</td>\n",
       "      <td>85.805463</td>\n",
       "      <td>65.172326</td>\n",
       "    </tr>\n",
       "  </tbody>\n",
       "</table>\n",
       "</div>"
      ],
      "text/plain": [
       "   Total Schools  Total Students  Total Budget  Average Math Score  \\\n",
       "0             15           39170      24649428           78.985371   \n",
       "\n",
       "   Average Reading Score  % Passing Math  % Passing Reading  % Overall Passing  \n",
       "0               81.87784       74.980853          85.805463          65.172326  "
      ]
     },
     "execution_count": 56,
     "metadata": {},
     "output_type": "execute_result"
    }
   ],
   "source": [
    "#create a dataframe to hold the results\n",
    "district_summary = pd.DataFrame(\n",
    "    {\"Total Schools\":[total_schools],\n",
    "                                \"Total Students\":[total_students],\n",
    "                                \"Total Budget\":[total_budget],\n",
    "                                \"Average Math Score\":[math_score],\n",
    "                                \"Average Reading Score\":[reading_score],\n",
    "                                \"% Passing Math\":[percentage_passing_math],\n",
    "                                \"% Passing Reading\":[percentage_passing_reading],\n",
    "                                \"% Overall Passing\":[overall_passing_percentage]\n",
    "    })\n",
    "district_summary"
   ]
  },
  {
   "cell_type": "code",
   "execution_count": 107,
   "metadata": {},
   "outputs": [
    {
     "data": {
      "text/plain": [
       "<pandas.core.groupby.generic.DataFrameGroupBy object at 0x000001F22D95D640>"
      ]
     },
     "execution_count": 107,
     "metadata": {},
     "output_type": "execute_result"
    }
   ],
   "source": [
    "#create an overview table that summarizes:\n",
    "#school name\n",
    "by_school = all_data.groupby([\"school_name\",\"type\"])\n",
    "by_school"
   ]
  },
  {
   "cell_type": "code",
   "execution_count": null,
   "metadata": {},
   "outputs": [],
   "source": []
  },
  {
   "cell_type": "code",
   "execution_count": 109,
   "metadata": {},
   "outputs": [
    {
     "data": {
      "text/plain": [
       "school_name            type    \n",
       "Bailey High School     District    4976\n",
       "Cabrera High School    Charter     1858\n",
       "Figueroa High School   District    2949\n",
       "Ford High School       District    2739\n",
       "Griffin High School    Charter     1468\n",
       "Hernandez High School  District    4635\n",
       "Holden High School     Charter      427\n",
       "Huang High School      District    2917\n",
       "Johnson High School    District    4761\n",
       "Pena High School       Charter      962\n",
       "Rodriguez High School  District    3999\n",
       "Shelton High School    Charter     1761\n",
       "Thomas High School     Charter     1635\n",
       "Wilson High School     Charter     2283\n",
       "Wright High School     Charter     1800\n",
       "Name: Student ID, dtype: int64"
      ]
     },
     "execution_count": 109,
     "metadata": {},
     "output_type": "execute_result"
    }
   ],
   "source": [
    "#total students\n",
    "students_per_school = by_school[\"Student ID\"].count()\n",
    "students_per_school"
   ]
  },
  {
   "cell_type": "code",
   "execution_count": 111,
   "metadata": {},
   "outputs": [
    {
     "data": {
      "text/plain": [
       "school_name            type    \n",
       "Bailey High School     District    3124928\n",
       "Cabrera High School    Charter     1081356\n",
       "Figueroa High School   District    1884411\n",
       "Ford High School       District    1763916\n",
       "Griffin High School    Charter      917500\n",
       "Hernandez High School  District    3022020\n",
       "Holden High School     Charter      248087\n",
       "Huang High School      District    1910635\n",
       "Johnson High School    District    3094650\n",
       "Pena High School       Charter      585858\n",
       "Rodriguez High School  District    2547363\n",
       "Shelton High School    Charter     1056600\n",
       "Thomas High School     Charter     1043130\n",
       "Wilson High School     Charter     1319574\n",
       "Wright High School     Charter     1049400\n",
       "Name: budget, dtype: int64"
      ]
     },
     "execution_count": 111,
     "metadata": {},
     "output_type": "execute_result"
    }
   ],
   "source": [
    "#total school budget\n",
    "budget_per_school = by_school[\"budget\"].mean()\n",
    "budget_per_school"
   ]
  },
  {
   "cell_type": "code",
   "execution_count": 113,
   "metadata": {},
   "outputs": [
    {
     "data": {
      "text/plain": [
       "school_name            type    \n",
       "Bailey High School     District    628.0\n",
       "Cabrera High School    Charter     582.0\n",
       "Figueroa High School   District    639.0\n",
       "Ford High School       District    644.0\n",
       "Griffin High School    Charter     625.0\n",
       "Hernandez High School  District    652.0\n",
       "Holden High School     Charter     581.0\n",
       "Huang High School      District    655.0\n",
       "Johnson High School    District    650.0\n",
       "Pena High School       Charter     609.0\n",
       "Rodriguez High School  District    637.0\n",
       "Shelton High School    Charter     600.0\n",
       "Thomas High School     Charter     638.0\n",
       "Wilson High School     Charter     578.0\n",
       "Wright High School     Charter     583.0\n",
       "dtype: float64"
      ]
     },
     "execution_count": 113,
     "metadata": {},
     "output_type": "execute_result"
    }
   ],
   "source": [
    "#calculate per student budget\n",
    "per_student_budget = (budget_per_school/students_per_school)\n",
    "per_student_budget"
   ]
  },
  {
   "cell_type": "code",
   "execution_count": 115,
   "metadata": {},
   "outputs": [
    {
     "data": {
      "text/plain": [
       "school_name            type    \n",
       "Bailey High School     District    77.048432\n",
       "Cabrera High School    Charter     83.061895\n",
       "Figueroa High School   District    76.711767\n",
       "Ford High School       District    77.102592\n",
       "Griffin High School    Charter     83.351499\n",
       "Hernandez High School  District    77.289752\n",
       "Holden High School     Charter     83.803279\n",
       "Huang High School      District    76.629414\n",
       "Johnson High School    District    77.072464\n",
       "Pena High School       Charter     83.839917\n",
       "Rodriguez High School  District    76.842711\n",
       "Shelton High School    Charter     83.359455\n",
       "Thomas High School     Charter     83.418349\n",
       "Wilson High School     Charter     83.274201\n",
       "Wright High School     Charter     83.682222\n",
       "Name: math_score, dtype: float64"
      ]
     },
     "execution_count": 115,
     "metadata": {},
     "output_type": "execute_result"
    }
   ],
   "source": [
    "#calculate average math score\n",
    "math_score2 = by_school[\"math_score\"].mean()\n",
    "math_score2"
   ]
  },
  {
   "cell_type": "code",
   "execution_count": 116,
   "metadata": {},
   "outputs": [
    {
     "data": {
      "text/plain": [
       "school_name            type    \n",
       "Bailey High School     District    81.033963\n",
       "Cabrera High School    Charter     83.975780\n",
       "Figueroa High School   District    81.158020\n",
       "Ford High School       District    80.746258\n",
       "Griffin High School    Charter     83.816757\n",
       "Hernandez High School  District    80.934412\n",
       "Holden High School     Charter     83.814988\n",
       "Huang High School      District    81.182722\n",
       "Johnson High School    District    80.966394\n",
       "Pena High School       Charter     84.044699\n",
       "Rodriguez High School  District    80.744686\n",
       "Shelton High School    Charter     83.725724\n",
       "Thomas High School     Charter     83.848930\n",
       "Wilson High School     Charter     83.989488\n",
       "Wright High School     Charter     83.955000\n",
       "Name: reading_score, dtype: float64"
      ]
     },
     "execution_count": 116,
     "metadata": {},
     "output_type": "execute_result"
    }
   ],
   "source": [
    "#calculate average reading score\n",
    "reading_score2 = by_school[\"reading_score\"].mean()\n",
    "reading_score2"
   ]
  },
  {
   "cell_type": "code",
   "execution_count": 118,
   "metadata": {},
   "outputs": [
    {
     "data": {
      "text/plain": [
       "school_name            type    \n",
       "Bailey High School     District    66.680064\n",
       "Cabrera High School    Charter     94.133477\n",
       "Figueroa High School   District    65.988471\n",
       "Ford High School       District    68.309602\n",
       "Griffin High School    Charter     93.392371\n",
       "Hernandez High School  District    66.752967\n",
       "Holden High School     Charter     92.505855\n",
       "Huang High School      District    65.683922\n",
       "Johnson High School    District    66.057551\n",
       "Pena High School       Charter     94.594595\n",
       "Rodriguez High School  District    66.366592\n",
       "Shelton High School    Charter     93.867121\n",
       "Thomas High School     Charter     93.272171\n",
       "Wilson High School     Charter     93.867718\n",
       "Wright High School     Charter     93.333333\n",
       "Name: Student ID, dtype: float64"
      ]
     },
     "execution_count": 118,
     "metadata": {},
     "output_type": "execute_result"
    }
   ],
   "source": [
    "#calculate % passing math\n",
    "good_math_students2 = all_data[all_data[\"math_score\"]>=70].groupby(\"school_name\")[\"Student ID\"].count()/students_per_school\n",
    "percent_passing_math2 = good_math_students2 * 100\n",
    "percent_passing_math2"
   ]
  },
  {
   "cell_type": "code",
   "execution_count": 119,
   "metadata": {},
   "outputs": [
    {
     "data": {
      "text/plain": [
       "school_name            type    \n",
       "Bailey High School     District    81.933280\n",
       "Cabrera High School    Charter     97.039828\n",
       "Figueroa High School   District    80.739234\n",
       "Ford High School       District    79.299014\n",
       "Griffin High School    Charter     97.138965\n",
       "Hernandez High School  District    80.862999\n",
       "Holden High School     Charter     96.252927\n",
       "Huang High School      District    81.316421\n",
       "Johnson High School    District    81.222432\n",
       "Pena High School       Charter     95.945946\n",
       "Rodriguez High School  District    80.220055\n",
       "Shelton High School    Charter     95.854628\n",
       "Thomas High School     Charter     97.308869\n",
       "Wilson High School     Charter     96.539641\n",
       "Wright High School     Charter     96.611111\n",
       "Name: Student ID, dtype: float64"
      ]
     },
     "execution_count": 119,
     "metadata": {},
     "output_type": "execute_result"
    }
   ],
   "source": [
    "#calcaulate % passing reading\n",
    "good_readers2 = all_data[all_data[\"reading_score\"]>=70].groupby(\"school_name\")[\"Student ID\"].count()/students_per_school\n",
    "percent_passing_reading2 = good_readers2 * 100\n",
    "percent_passing_reading2"
   ]
  },
  {
   "cell_type": "code",
   "execution_count": 120,
   "metadata": {},
   "outputs": [
    {
     "data": {
      "text/plain": [
       "school_name            type    \n",
       "Bailey High School     District    54.642283\n",
       "Cabrera High School    Charter     91.334769\n",
       "Figueroa High School   District    53.204476\n",
       "Ford High School       District    54.289887\n",
       "Griffin High School    Charter     90.599455\n",
       "Hernandez High School  District    53.527508\n",
       "Holden High School     Charter     89.227166\n",
       "Huang High School      District    53.513884\n",
       "Johnson High School    District    53.539172\n",
       "Pena High School       Charter     90.540541\n",
       "Rodriguez High School  District    52.988247\n",
       "Shelton High School    Charter     89.892107\n",
       "Thomas High School     Charter     90.948012\n",
       "Wilson High School     Charter     90.582567\n",
       "Wright High School     Charter     90.333333\n",
       "Name: Student ID, dtype: float64"
      ]
     },
     "execution_count": 120,
     "metadata": {},
     "output_type": "execute_result"
    }
   ],
   "source": [
    "#calculate overall % passing \n",
    "overall_passing2 = all_data[(all_data[\"reading_score\"]>=70) & (all_data[\"math_score\"]>=70)].groupby(\"school_name\")[\"Student ID\"].count()/students_per_school\n",
    "overall_percentage_passing2 = overall_passing2 * 100\n",
    "overall_percentage_passing2"
   ]
  },
  {
   "cell_type": "code",
   "execution_count": 144,
   "metadata": {},
   "outputs": [
    {
     "data": {
      "text/html": [
       "<div>\n",
       "<style scoped>\n",
       "    .dataframe tbody tr th:only-of-type {\n",
       "        vertical-align: middle;\n",
       "    }\n",
       "\n",
       "    .dataframe tbody tr th {\n",
       "        vertical-align: top;\n",
       "    }\n",
       "\n",
       "    .dataframe thead th {\n",
       "        text-align: right;\n",
       "    }\n",
       "</style>\n",
       "<table border=\"1\" class=\"dataframe\">\n",
       "  <thead>\n",
       "    <tr style=\"text-align: right;\">\n",
       "      <th></th>\n",
       "      <th>Total Students</th>\n",
       "      <th>Total School Budget</th>\n",
       "      <th>Average Math Score</th>\n",
       "      <th>Average Reading Score</th>\n",
       "      <th>% Passing Math</th>\n",
       "      <th>% Passing Reading</th>\n",
       "      <th>% Overall Passing</th>\n",
       "    </tr>\n",
       "  </thead>\n",
       "  <tbody>\n",
       "    <tr>\n",
       "      <th>0</th>\n",
       "      <td>school_name            type    \n",
       "Bailey High Sc...</td>\n",
       "      <td>school_name            type    \n",
       "Bailey High Sc...</td>\n",
       "      <td>school_name            type    \n",
       "Bailey High Sc...</td>\n",
       "      <td>school_name            type    \n",
       "Bailey High Sc...</td>\n",
       "      <td>school_name            type    \n",
       "Bailey High Sc...</td>\n",
       "      <td>school_name            type    \n",
       "Bailey High Sc...</td>\n",
       "      <td>school_name            type    \n",
       "Bailey High Sc...</td>\n",
       "    </tr>\n",
       "  </tbody>\n",
       "</table>\n",
       "</div>"
      ],
      "text/plain": [
       "                                      Total Students  \\\n",
       "0  school_name            type    \n",
       "Bailey High Sc...   \n",
       "\n",
       "                                 Total School Budget  \\\n",
       "0  school_name            type    \n",
       "Bailey High Sc...   \n",
       "\n",
       "                                  Average Math Score  \\\n",
       "0  school_name            type    \n",
       "Bailey High Sc...   \n",
       "\n",
       "                               Average Reading Score  \\\n",
       "0  school_name            type    \n",
       "Bailey High Sc...   \n",
       "\n",
       "                                      % Passing Math  \\\n",
       "0  school_name            type    \n",
       "Bailey High Sc...   \n",
       "\n",
       "                                   % Passing Reading  \\\n",
       "0  school_name            type    \n",
       "Bailey High Sc...   \n",
       "\n",
       "                                   % Overall Passing  \n",
       "0  school_name            type    \n",
       "Bailey High Sc...  "
      ]
     },
     "execution_count": 144,
     "metadata": {},
     "output_type": "execute_result"
    }
   ],
   "source": [
    "#Create a dataframe to hold the above results\n",
    "school_summary = pd.DataFrame(\n",
    "    {\"Total Students\":[students_per_school],\n",
    "     \"Total School Budget\":[budget_per_school],\n",
    "     \"Average Math Score\":[math_score2],\n",
    "     \"Average Reading Score\":[reading_score2],\n",
    "     \"% Passing Math\":[percent_passing_math2],\n",
    "     \"% Passing Reading\":[percent_passing_reading2],\n",
    "     \"% Overall Passing\":[overall_percentage_passing2]\n",
    "    })\n",
    "\n",
    "school_summary"
   ]
  },
  {
   "cell_type": "code",
   "execution_count": null,
   "metadata": {},
   "outputs": [],
   "source": []
  }
 ],
 "metadata": {
  "kernelspec": {
   "display_name": "Python 3",
   "language": "python",
   "name": "python3"
  },
  "language_info": {
   "codemirror_mode": {
    "name": "ipython",
    "version": 3
   },
   "file_extension": ".py",
   "mimetype": "text/x-python",
   "name": "python",
   "nbconvert_exporter": "python",
   "pygments_lexer": "ipython3",
   "version": "3.8.3"
  }
 },
 "nbformat": 4,
 "nbformat_minor": 4
}
