{
 "cells": [
  {
   "cell_type": "code",
   "execution_count": 4,
   "metadata": {},
   "outputs": [],
   "source": [
    "#Dependencies\n",
    "import pandas as pd"
   ]
  },
  {
   "cell_type": "code",
   "execution_count": 5,
   "metadata": {},
   "outputs": [],
   "source": [
    "#File to load\n",
    "school_csvpath = \"Resources/schools_complete.csv\"\n",
    "students_csvpath = \"Resources/students_complete.csv\""
   ]
  },
  {
   "cell_type": "code",
   "execution_count": 6,
   "metadata": {},
   "outputs": [],
   "source": [
    "#Read School and Student Data File and store into Pandas Dataframes\n",
    "school_data = pd.read_csv(school_csvpath)\n",
    "student_data = pd.read_csv(students_csvpath)"
   ]
  },
  {
   "cell_type": "code",
   "execution_count": 7,
   "metadata": {},
   "outputs": [],
   "source": [
    "#combine the data into a single dataset.\n",
    "all_data = pd.merge(student_data, school_data, how=\"left\", on=[\"school_name\", \"school_name\"])\n"
   ]
  },
  {
   "cell_type": "code",
   "execution_count": 19,
   "metadata": {},
   "outputs": [
    {
     "data": {
      "text/plain": [
       "15"
      ]
     },
     "execution_count": 19,
     "metadata": {},
     "output_type": "execute_result"
    }
   ],
   "source": [
    "#calculate the total # of schools\n",
    "grouped_school_names = all_data.groupby([\"school_name\"])\n",
    "total_schools = len(grouped_school_names)\n",
    "total_schools"
   ]
  },
  {
   "cell_type": "code",
   "execution_count": 20,
   "metadata": {},
   "outputs": [
    {
     "data": {
      "text/plain": [
       "39170"
      ]
     },
     "execution_count": 20,
     "metadata": {},
     "output_type": "execute_result"
    }
   ],
   "source": [
    "#calculate the total # of students\n",
    "total_students = len(all_data[\"Student ID\"])\n",
    "total_students"
   ]
  },
  {
   "cell_type": "code",
   "execution_count": 78,
   "metadata": {},
   "outputs": [
    {
     "data": {
      "text/plain": [
       "24649428"
      ]
     },
     "execution_count": 78,
     "metadata": {},
     "output_type": "execute_result"
    }
   ],
   "source": [
    "#calculate the total budget\n",
    "total_budget = school_data[\"budget\"].sum()\n",
    "total_budget"
   ]
  },
  {
   "cell_type": "code",
   "execution_count": 79,
   "metadata": {},
   "outputs": [
    {
     "data": {
      "text/plain": [
       "78.98537145774827"
      ]
     },
     "execution_count": 79,
     "metadata": {},
     "output_type": "execute_result"
    }
   ],
   "source": [
    "#calculate the average math score\n",
    "math_score = student_data[\"math_score\"].mean()\n",
    "math_score"
   ]
  },
  {
   "cell_type": "code",
   "execution_count": 80,
   "metadata": {},
   "outputs": [
    {
     "data": {
      "text/plain": [
       "81.87784018381414"
      ]
     },
     "execution_count": 80,
     "metadata": {},
     "output_type": "execute_result"
    }
   ],
   "source": [
    "#calculate the average reading score\n",
    "reading_score = student_data[\"reading_score\"].mean()\n",
    "reading_score"
   ]
  },
  {
   "cell_type": "code",
   "execution_count": 81,
   "metadata": {},
   "outputs": [
    {
     "data": {
      "text/plain": [
       "74.9808526933878"
      ]
     },
     "execution_count": 81,
     "metadata": {},
     "output_type": "execute_result"
    }
   ],
   "source": [
    "#calculate the percentage of students with a passing math score\n",
    "good_math_students = all_data.loc[all_data[\"math_score\"]>=70]\n",
    "total_good_math = len(good_math_students)\n",
    "percentage_passing_math = (total_good_math/total_students)*100\n",
    "percentage_passing_math"
   ]
  },
  {
   "cell_type": "code",
   "execution_count": 82,
   "metadata": {},
   "outputs": [
    {
     "data": {
      "text/plain": [
       "85.80546336482001"
      ]
     },
     "execution_count": 82,
     "metadata": {},
     "output_type": "execute_result"
    }
   ],
   "source": [
    "#calculate the percentage of students with a passing reading score\n",
    "good_readers = all_data.loc[all_data[\"reading_score\"]>=70]\n",
    "total_good_readers = len(good_readers)\n",
    "percentage_passing_reading = (total_good_readers/total_students)*100\n",
    "percentage_passing_reading"
   ]
  },
  {
   "cell_type": "code",
   "execution_count": 83,
   "metadata": {},
   "outputs": [
    {
     "data": {
      "text/plain": [
       "65.17232575950983"
      ]
     },
     "execution_count": 83,
     "metadata": {},
     "output_type": "execute_result"
    }
   ],
   "source": [
    "#calculate the percentage of students who passed math and reading\n",
    "overall_passing = all_data[(all_data[\"reading_score\"]>=70) & (all_data[\"math_score\"]>=70)][\"student_name\"].count()\n",
    "overall_passing_percentage = (overall_passing/total_students)*100\n",
    "overall_passing_percentage"
   ]
  },
  {
   "cell_type": "code",
   "execution_count": 77,
   "metadata": {},
   "outputs": [
    {
     "data": {
      "text/html": [
       "<div>\n",
       "<style scoped>\n",
       "    .dataframe tbody tr th:only-of-type {\n",
       "        vertical-align: middle;\n",
       "    }\n",
       "\n",
       "    .dataframe tbody tr th {\n",
       "        vertical-align: top;\n",
       "    }\n",
       "\n",
       "    .dataframe thead th {\n",
       "        text-align: right;\n",
       "    }\n",
       "</style>\n",
       "<table border=\"1\" class=\"dataframe\">\n",
       "  <thead>\n",
       "    <tr style=\"text-align: right;\">\n",
       "      <th></th>\n",
       "      <th>Total Schools</th>\n",
       "      <th>Total Students</th>\n",
       "      <th>Total Budget</th>\n",
       "      <th>Average Math Score</th>\n",
       "      <th>Average Reading Score</th>\n",
       "      <th>% Passing Math</th>\n",
       "      <th>% Passing Reading</th>\n",
       "      <th>% Overall Passing</th>\n",
       "    </tr>\n",
       "  </thead>\n",
       "  <tbody>\n",
       "    <tr>\n",
       "      <th>0</th>\n",
       "      <td>15</td>\n",
       "      <td>39170</td>\n",
       "      <td>24649428</td>\n",
       "      <td>78.985371</td>\n",
       "      <td>81.87784</td>\n",
       "      <td>74.980853</td>\n",
       "      <td>85.805463</td>\n",
       "      <td>65.172326</td>\n",
       "    </tr>\n",
       "  </tbody>\n",
       "</table>\n",
       "</div>"
      ],
      "text/plain": [
       "   Total Schools  Total Students  Total Budget  Average Math Score  \\\n",
       "0             15           39170      24649428           78.985371   \n",
       "\n",
       "   Average Reading Score  % Passing Math  % Passing Reading  % Overall Passing  \n",
       "0               81.87784       74.980853          85.805463          65.172326  "
      ]
     },
     "execution_count": 77,
     "metadata": {},
     "output_type": "execute_result"
    }
   ],
   "source": [
    "#create a dataframe to hold the results\n",
    "district_summary = pd.DataFrame(\n",
    "    {\"Total Schools\":[total_schools],\n",
    "                                \"Total Students\":[total_students],\n",
    "                                \"Total Budget\":[total_budget],\n",
    "                                \"Average Math Score\":[math_score],\n",
    "                                \"Average Reading Score\":[reading_score],\n",
    "                                \"% Passing Math\":[percentage_passing_math],\n",
    "                                \"% Passing Reading\":[percentage_passing_reading],\n",
    "                                \"% Overall Passing\":[overall_passing_percentage]\n",
    "    })\n",
    "district_summary"
   ]
  },
  {
   "cell_type": "code",
   "execution_count": 85,
   "metadata": {},
   "outputs": [
    {
     "data": {
      "text/html": [
       "<div>\n",
       "<style scoped>\n",
       "    .dataframe tbody tr th:only-of-type {\n",
       "        vertical-align: middle;\n",
       "    }\n",
       "\n",
       "    .dataframe tbody tr th {\n",
       "        vertical-align: top;\n",
       "    }\n",
       "\n",
       "    .dataframe thead th {\n",
       "        text-align: right;\n",
       "    }\n",
       "</style>\n",
       "<table border=\"1\" class=\"dataframe\">\n",
       "  <thead>\n",
       "    <tr style=\"text-align: right;\">\n",
       "      <th></th>\n",
       "      <th>Student ID</th>\n",
       "      <th>student_name</th>\n",
       "      <th>gender</th>\n",
       "      <th>grade</th>\n",
       "      <th>reading_score</th>\n",
       "      <th>math_score</th>\n",
       "      <th>School ID</th>\n",
       "      <th>type</th>\n",
       "      <th>size</th>\n",
       "      <th>budget</th>\n",
       "    </tr>\n",
       "    <tr>\n",
       "      <th>school_name</th>\n",
       "      <th></th>\n",
       "      <th></th>\n",
       "      <th></th>\n",
       "      <th></th>\n",
       "      <th></th>\n",
       "      <th></th>\n",
       "      <th></th>\n",
       "      <th></th>\n",
       "      <th></th>\n",
       "      <th></th>\n",
       "    </tr>\n",
       "  </thead>\n",
       "  <tbody>\n",
       "    <tr>\n",
       "      <th>Bailey High School</th>\n",
       "      <td>4976</td>\n",
       "      <td>4976</td>\n",
       "      <td>4976</td>\n",
       "      <td>4976</td>\n",
       "      <td>4976</td>\n",
       "      <td>4976</td>\n",
       "      <td>4976</td>\n",
       "      <td>4976</td>\n",
       "      <td>4976</td>\n",
       "      <td>4976</td>\n",
       "    </tr>\n",
       "    <tr>\n",
       "      <th>Cabrera High School</th>\n",
       "      <td>1858</td>\n",
       "      <td>1858</td>\n",
       "      <td>1858</td>\n",
       "      <td>1858</td>\n",
       "      <td>1858</td>\n",
       "      <td>1858</td>\n",
       "      <td>1858</td>\n",
       "      <td>1858</td>\n",
       "      <td>1858</td>\n",
       "      <td>1858</td>\n",
       "    </tr>\n",
       "    <tr>\n",
       "      <th>Figueroa High School</th>\n",
       "      <td>2949</td>\n",
       "      <td>2949</td>\n",
       "      <td>2949</td>\n",
       "      <td>2949</td>\n",
       "      <td>2949</td>\n",
       "      <td>2949</td>\n",
       "      <td>2949</td>\n",
       "      <td>2949</td>\n",
       "      <td>2949</td>\n",
       "      <td>2949</td>\n",
       "    </tr>\n",
       "    <tr>\n",
       "      <th>Ford High School</th>\n",
       "      <td>2739</td>\n",
       "      <td>2739</td>\n",
       "      <td>2739</td>\n",
       "      <td>2739</td>\n",
       "      <td>2739</td>\n",
       "      <td>2739</td>\n",
       "      <td>2739</td>\n",
       "      <td>2739</td>\n",
       "      <td>2739</td>\n",
       "      <td>2739</td>\n",
       "    </tr>\n",
       "    <tr>\n",
       "      <th>Griffin High School</th>\n",
       "      <td>1468</td>\n",
       "      <td>1468</td>\n",
       "      <td>1468</td>\n",
       "      <td>1468</td>\n",
       "      <td>1468</td>\n",
       "      <td>1468</td>\n",
       "      <td>1468</td>\n",
       "      <td>1468</td>\n",
       "      <td>1468</td>\n",
       "      <td>1468</td>\n",
       "    </tr>\n",
       "  </tbody>\n",
       "</table>\n",
       "</div>"
      ],
      "text/plain": [
       "                      Student ID  student_name  gender  grade  reading_score  \\\n",
       "school_name                                                                    \n",
       "Bailey High School          4976          4976    4976   4976           4976   \n",
       "Cabrera High School         1858          1858    1858   1858           1858   \n",
       "Figueroa High School        2949          2949    2949   2949           2949   \n",
       "Ford High School            2739          2739    2739   2739           2739   \n",
       "Griffin High School         1468          1468    1468   1468           1468   \n",
       "\n",
       "                      math_score  School ID  type  size  budget  \n",
       "school_name                                                      \n",
       "Bailey High School          4976       4976  4976  4976    4976  \n",
       "Cabrera High School         1858       1858  1858  1858    1858  \n",
       "Figueroa High School        2949       2949  2949  2949    2949  \n",
       "Ford High School            2739       2739  2739  2739    2739  \n",
       "Griffin High School         1468       1468  1468  1468    1468  "
      ]
     },
     "execution_count": 85,
     "metadata": {},
     "output_type": "execute_result"
    }
   ],
   "source": [
    "#create an overview table that summarizes:\n",
    "#school name\n",
    "school_name = all_data.groupby([\"school_name\"])\n",
    "school_name.count().head()\n",
    "\n"
   ]
  },
  {
   "cell_type": "code",
   "execution_count": 86,
   "metadata": {},
   "outputs": [
    {
     "data": {
      "text/html": [
       "<div>\n",
       "<style scoped>\n",
       "    .dataframe tbody tr th:only-of-type {\n",
       "        vertical-align: middle;\n",
       "    }\n",
       "\n",
       "    .dataframe tbody tr th {\n",
       "        vertical-align: top;\n",
       "    }\n",
       "\n",
       "    .dataframe thead th {\n",
       "        text-align: right;\n",
       "    }\n",
       "</style>\n",
       "<table border=\"1\" class=\"dataframe\">\n",
       "  <thead>\n",
       "    <tr style=\"text-align: right;\">\n",
       "      <th></th>\n",
       "      <th>Student ID</th>\n",
       "      <th>student_name</th>\n",
       "      <th>gender</th>\n",
       "      <th>grade</th>\n",
       "      <th>school_name</th>\n",
       "      <th>reading_score</th>\n",
       "      <th>math_score</th>\n",
       "      <th>School ID</th>\n",
       "      <th>size</th>\n",
       "      <th>budget</th>\n",
       "    </tr>\n",
       "    <tr>\n",
       "      <th>type</th>\n",
       "      <th></th>\n",
       "      <th></th>\n",
       "      <th></th>\n",
       "      <th></th>\n",
       "      <th></th>\n",
       "      <th></th>\n",
       "      <th></th>\n",
       "      <th></th>\n",
       "      <th></th>\n",
       "      <th></th>\n",
       "    </tr>\n",
       "  </thead>\n",
       "  <tbody>\n",
       "    <tr>\n",
       "      <th>Charter</th>\n",
       "      <td>12194</td>\n",
       "      <td>12194</td>\n",
       "      <td>12194</td>\n",
       "      <td>12194</td>\n",
       "      <td>12194</td>\n",
       "      <td>12194</td>\n",
       "      <td>12194</td>\n",
       "      <td>12194</td>\n",
       "      <td>12194</td>\n",
       "      <td>12194</td>\n",
       "    </tr>\n",
       "    <tr>\n",
       "      <th>District</th>\n",
       "      <td>26976</td>\n",
       "      <td>26976</td>\n",
       "      <td>26976</td>\n",
       "      <td>26976</td>\n",
       "      <td>26976</td>\n",
       "      <td>26976</td>\n",
       "      <td>26976</td>\n",
       "      <td>26976</td>\n",
       "      <td>26976</td>\n",
       "      <td>26976</td>\n",
       "    </tr>\n",
       "  </tbody>\n",
       "</table>\n",
       "</div>"
      ],
      "text/plain": [
       "          Student ID  student_name  gender  grade  school_name  reading_score  \\\n",
       "type                                                                            \n",
       "Charter        12194         12194   12194  12194        12194          12194   \n",
       "District       26976         26976   26976  26976        26976          26976   \n",
       "\n",
       "          math_score  School ID   size  budget  \n",
       "type                                            \n",
       "Charter        12194      12194  12194   12194  \n",
       "District       26976      26976  26976   26976  "
      ]
     },
     "execution_count": 86,
     "metadata": {},
     "output_type": "execute_result"
    }
   ],
   "source": [
    "#school type\n",
    "school_type = all_data.groupby([\"type\"])\n",
    "school_type.count().head()"
   ]
  },
  {
   "cell_type": "code",
   "execution_count": 88,
   "metadata": {},
   "outputs": [
    {
     "data": {
      "text/plain": [
       "school_name\n",
       "Bailey High School       4976\n",
       "Cabrera High School      1858\n",
       "Figueroa High School     2949\n",
       "Ford High School         2739\n",
       "Griffin High School      1468\n",
       "Hernandez High School    4635\n",
       "Holden High School        427\n",
       "Huang High School        2917\n",
       "Johnson High School      4761\n",
       "Pena High School          962\n",
       "Rodriguez High School    3999\n",
       "Shelton High School      1761\n",
       "Thomas High School       1635\n",
       "Wilson High School       2283\n",
       "Wright High School       1800\n",
       "Name: Student ID, dtype: int64"
      ]
     },
     "execution_count": 88,
     "metadata": {},
     "output_type": "execute_result"
    }
   ],
   "source": [
    "#total students\n",
    "students_per_school = school_name[\"Student ID\"].count()\n",
    "students_per_school"
   ]
  },
  {
   "cell_type": "code",
   "execution_count": 107,
   "metadata": {},
   "outputs": [
    {
     "data": {
      "text/plain": [
       "school_name            budget \n",
       "Bailey High School     3124928    4976\n",
       "Cabrera High School    1081356    1858\n",
       "Figueroa High School   1884411    2949\n",
       "Ford High School       1763916    2739\n",
       "Griffin High School    917500     1468\n",
       "Hernandez High School  3022020    4635\n",
       "Holden High School     248087      427\n",
       "Huang High School      1910635    2917\n",
       "Johnson High School    3094650    4761\n",
       "Pena High School       585858      962\n",
       "Rodriguez High School  2547363    3999\n",
       "Shelton High School    1056600    1761\n",
       "Thomas High School     1043130    1635\n",
       "Wilson High School     1319574    2283\n",
       "Wright High School     1049400    1800\n",
       "Name: budget, dtype: int64"
      ]
     },
     "execution_count": 107,
     "metadata": {},
     "output_type": "execute_result"
    }
   ],
   "source": [
    "#total school budget\n",
    "budget_per_school = school_name[\"budget\"].value_counts()\n",
    "budget_per_school"
   ]
  },
  {
   "cell_type": "code",
   "execution_count": 117,
   "metadata": {},
   "outputs": [
    {
     "data": {
      "text/plain": [
       "school_name            budget \n",
       "Bailey High School     3124928    1.0\n",
       "Cabrera High School    1081356    1.0\n",
       "Figueroa High School   1884411    1.0\n",
       "Ford High School       1763916    1.0\n",
       "Griffin High School    917500     1.0\n",
       "Hernandez High School  3022020    1.0\n",
       "Holden High School     248087     1.0\n",
       "Huang High School      1910635    1.0\n",
       "Johnson High School    3094650    1.0\n",
       "Pena High School       585858     1.0\n",
       "Rodriguez High School  2547363    1.0\n",
       "Shelton High School    1056600    1.0\n",
       "Thomas High School     1043130    1.0\n",
       "Wilson High School     1319574    1.0\n",
       "Wright High School     1049400    1.0\n",
       "dtype: float64"
      ]
     },
     "execution_count": 117,
     "metadata": {},
     "output_type": "execute_result"
    }
   ],
   "source": [
    "#calculate the per student budget\n"
   ]
  },
  {
   "cell_type": "code",
   "execution_count": null,
   "metadata": {},
   "outputs": [],
   "source": []
  },
  {
   "cell_type": "code",
   "execution_count": null,
   "metadata": {},
   "outputs": [],
   "source": []
  },
  {
   "cell_type": "code",
   "execution_count": null,
   "metadata": {},
   "outputs": [],
   "source": []
  },
  {
   "cell_type": "code",
   "execution_count": null,
   "metadata": {},
   "outputs": [],
   "source": []
  }
 ],
 "metadata": {
  "kernelspec": {
   "display_name": "Python 3",
   "language": "python",
   "name": "python3"
  },
  "language_info": {
   "codemirror_mode": {
    "name": "ipython",
    "version": 3
   },
   "file_extension": ".py",
   "mimetype": "text/x-python",
   "name": "python",
   "nbconvert_exporter": "python",
   "pygments_lexer": "ipython3",
   "version": "3.8.3"
  }
 },
 "nbformat": 4,
 "nbformat_minor": 4
}
